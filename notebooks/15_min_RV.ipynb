{
 "cells": [
  {
   "cell_type": "markdown",
   "id": "79499293",
   "metadata": {},
   "source": [
    "# 15-minutes Realized Variance Notebook"
   ]
  },
  {
   "cell_type": "markdown",
   "id": "4578d652",
   "metadata": {},
   "source": [
    "This notebook analyzes the best subfrequency for computing the 15-minutes Realized Variance by creating a variance signature plot."
   ]
  },
  {
   "cell_type": "code",
   "execution_count": 120,
   "id": "e930bf7b",
   "metadata": {},
   "outputs": [
    {
     "data": {
      "text/html": [
       "<style>.container { width:80% !important; }</style>"
      ],
      "text/plain": [
       "<IPython.core.display.HTML object>"
      ]
     },
     "metadata": {},
     "output_type": "display_data"
    }
   ],
   "source": [
    "# Required libraries\n",
    "# Required libraries\n",
    "from IPython.core.display import display, HTML\n",
    "display(HTML(\"<style>.container { width:80% !important; }</style>\"))\n",
    "from pathlib import Path\n",
    "import sys\n",
    "import os \n",
    "import pandas as pd\n",
    "import numpy as np\n",
    "from itertools import chain\n",
    "import matplotlib.pyplot as plt\n",
    "import datetime\n",
    "import zipfile \n",
    "from timeit import default_timer as timer\n",
    "import sqlalchemy as db\n",
    "import matplotlib.pylab as pylab\n",
    "# Paths\n",
    "sys.path.append(os.path.join(Path(os.getcwd()).parent))  \n",
    "data_path = os.path.join(os.path.join(Path(os.getcwd()).parent), 'data')\n",
    "data_per_day_path = os.path.join(os.path.join(Path(os.getcwd()).parent), 'data','data_per_day')\n",
    "results_path = os.path.join(os.path.join(Path(os.getcwd()).parent), 'results')\n",
    "\n",
    "# create connection to sqlite database\n",
    "db_path = os.path.join(data_path, 'database.db')\n",
    "db_engine = db.create_engine('sqlite:///' + db_path)\n",
    "\n",
    "params = {\n",
    "         'axes.labelsize': 'x-large',\n",
    "         'axes.titlesize':'x-large',\n",
    "         'xtick.labelsize':'x-large',\n",
    "         'ytick.labelsize':'x-large'}\n",
    "pylab.rcParams.update(params)"
   ]
  },
  {
   "cell_type": "code",
   "execution_count": 20,
   "id": "31562bd7",
   "metadata": {},
   "outputs": [],
   "source": [
    "# get the data folders file now\n",
    "data_folders = [f for f in os.listdir(data_per_day_path) if not os.path.isfile(os.path.join(data_per_day_path, f))]\n",
    "data_folders = [file for file in data_folders if '.' not in file]\n",
    "data_folders = [os.path.join(data_per_day_path, x) for x in data_folders]\n",
    "# get the csv file now\n",
    "data_folder = data_folders[1]\n",
    "table_name = data_folder[-3:]\n",
    "csv_files = [f for f in os.listdir(data_folder) if os.path.isfile(os.path.join(data_folder, f))]\n",
    "csv_files = [file for file in csv_files if '.csv' in file and '201912' in file]\n",
    "csv_files = np.sort([os.path.join(data_folder, x) for x in csv_files])"
   ]
  },
  {
   "cell_type": "code",
   "execution_count": 21,
   "id": "f75c096a",
   "metadata": {},
   "outputs": [],
   "source": [
    "def compute_second_data(csv_file):\n",
    "    data_df = pd.read_csv(csv_file)\n",
    "    data_df.DT = pd.to_datetime(data_df.DT)\n",
    "    data_df.sort_values(by=['DT'], inplace=True)\n",
    "    data_df.index = data_df.DT\n",
    "    data_df.drop(columns=['DT'],inplace=True)\n",
    "    data_df = data_df.between_time('9:30', '16:00')\n",
    "    data_df.reset_index(drop=False, inplace=True)\n",
    "\n",
    "    # non zero quotes\n",
    "    data_df = data_df.loc[(data_df.BID>0) & (data_df.BIDSIZ>0) & (data_df.ASK>0) & (data_df.ASKSIZ>0)]\n",
    "\n",
    "    # autoselect exchange\n",
    "    data_df['total_size'] = data_df.BIDSIZ + data_df.ASKSIZ\n",
    "    #data_df = data_df.loc[data_df.EX == data_df.groupby(['EX']).sum().total_size.idxmax()]\n",
    "\n",
    "    # delete negative spreads\n",
    "    data_df = data_df.loc[data_df.ASK > data_df.BID]\n",
    "\n",
    "    # mergeQuotesSameTimestamp\n",
    "    ex = data_df.EX.values[0]\n",
    "    sym_root = data_df.SYM_ROOT.values[0]\n",
    "    data_df.drop(columns=['SYM_SUFFIX', 'total_size'], inplace=True)\n",
    "    data_df = data_df.groupby(['DT']).median()\n",
    "    data_df['EX'] = ex\n",
    "    data_df['SYM_ROOT'] = sym_root\n",
    "    data_df.reset_index(drop=False, inplace=True)\n",
    "\n",
    "    # remove entries with spread > 50 * daily median spread\n",
    "    data_df['SPREAD'] = data_df.ASK - data_df.BID\n",
    "    data_df = data_df.loc[data_df['SPREAD'] < 50 * data_df['SPREAD'].median()]\n",
    "\n",
    "    # remove outliers using the centered rolling window approach \n",
    "    def compute_diff(x):\n",
    "        return x.values[window] - np.median(np.delete(x.values,window))\n",
    "\n",
    "    window = 25\n",
    "    data_df.sort_values(by=['DT'], inplace=True)\n",
    "    data_df['SPREAD_DIFF'] = data_df.SPREAD.rolling(2*window+1, min_periods=2*window+1, center=True).apply(compute_diff)\n",
    "    data_df = data_df.loc[(data_df['SPREAD_DIFF'] < 10 * data_df['SPREAD_DIFF'].mean()) | (data_df['SPREAD_DIFF'].isna())]\n",
    "    data_df = data_df.reset_index(drop=True)\n",
    "    \n",
    "    # resample data to 15 seconds level\n",
    "    data_df.set_index(['DT'], inplace=True)\n",
    "    data_df[\"MID\"] = data_df.apply(lambda x: (x.ASK * x.ASKSIZ + x.BID * x.BIDSIZ) / (x.ASKSIZ + x.BIDSIZ), axis=1)\n",
    "    data_df = data_df[['MID', 'SYM_ROOT']]\n",
    "    df_resampled = data_df.resample('1s').ffill()\n",
    "    df_resampled = df_resampled.append(pd.DataFrame(data_df[-1:].values, \n",
    "                                                    index=[df_resampled.index[-1] + datetime.timedelta(seconds=1)],columns=data_df.columns)) # get last observation that is not added by ffill\n",
    "    # set new index and forward fill the price data\n",
    "    \n",
    "    first_date = datetime.datetime(year=2019,month=12,day=int(csv_file[-6:-4]),hour=9,minute=45,second=0)\n",
    "    df_resampled = df_resampled.iloc[1:,:] # observation at 9:30 is going to be NA\n",
    "    new_index = pd.date_range(start=first_date, periods=22501, freq='1s') # index from 9:45 until 16:00\n",
    "    df_resampled = df_resampled.reindex(new_index, method='ffill')\n",
    "    df_resampled.reset_index(drop=False, inplace=True)\n",
    "    df_resampled.rename(columns={'index': 'DT'}, inplace = True)\n",
    "\n",
    "    return df_resampled"
   ]
  },
  {
   "cell_type": "code",
   "execution_count": 4,
   "id": "9cbc67ea",
   "metadata": {},
   "outputs": [
    {
     "name": "stdout",
     "output_type": "stream",
     "text": [
      "CPU times: user 97.7 ms, sys: 43.9 ms, total: 142 ms\n",
      "Wall time: 14min 34s\n"
     ]
    }
   ],
   "source": [
    "%%time\n",
    "from joblib import Parallel, delayed\n",
    "    \n",
    "df_data_all_days_SPY = Parallel(n_jobs=14)(delayed(compute_second_data)(i) for i in csv_files)"
   ]
  },
  {
   "cell_type": "code",
   "execution_count": 16,
   "id": "ee04e700",
   "metadata": {},
   "outputs": [
    {
     "name": "stdout",
     "output_type": "stream",
     "text": [
      "CPU times: user 53.8 ms, sys: 47.3 ms, total: 101 ms\n",
      "Wall time: 3min 3s\n"
     ]
    }
   ],
   "source": [
    "%%time\n",
    "from joblib import Parallel, delayed\n",
    "    \n",
    "df_data_all_days_EEM = Parallel(n_jobs=14)(delayed(compute_second_data)(i) for i in csv_files)"
   ]
  },
  {
   "cell_type": "code",
   "execution_count": 22,
   "id": "77531b45",
   "metadata": {},
   "outputs": [
    {
     "name": "stdout",
     "output_type": "stream",
     "text": [
      "CPU times: user 69.8 ms, sys: 5.67 ms, total: 75.5 ms\n",
      "Wall time: 59.8 s\n"
     ]
    }
   ],
   "source": [
    "%%time\n",
    "from joblib import Parallel, delayed\n",
    "    \n",
    "df_data_all_days_EZU = Parallel(n_jobs=14)(delayed(compute_second_data)(i) for i in csv_files)"
   ]
  },
  {
   "cell_type": "markdown",
   "id": "9a4c9546",
   "metadata": {},
   "source": [
    "# Analysis best sampling for 15min realized variance"
   ]
  },
  {
   "cell_type": "markdown",
   "id": "a3383193",
   "metadata": {},
   "source": [
    "The result indicates that 1min is more than enough"
   ]
  },
  {
   "cell_type": "code",
   "execution_count": 57,
   "id": "3eae9319",
   "metadata": {},
   "outputs": [],
   "source": [
    "def compute_rv(df, sampling):\n",
    "    df.index = df.DT\n",
    "    df_resampled = df.resample(sampling).ffill()\n",
    "    df_resampled['RET'] = df_resampled.MID.pct_change().apply(np.vectorize(lambda x: np.log(1+x)))\n",
    "    df_resampled = df_resampled.iloc[1:,:] # first return is NA\n",
    "    df_resampled.reset_index(drop=True, inplace=True)\n",
    "    df_resampled['RET2'] = df_resampled['RET'].apply(lambda x: x ** 2)\n",
    "    df_resampled.iloc[-1,0] = df_resampled.iloc[-1,0] - datetime.timedelta(seconds=1)\n",
    "    df_resampled.index = df_resampled.DT\n",
    "    df_resampled = df_resampled.resample('15min').sum()\n",
    "    df_resampled.reset_index(drop=False, inplace=True)\n",
    "    df_resampled.DT = df_resampled.DT + datetime.timedelta(minutes=15)\n",
    "    return list(df_resampled['RET2'].values)"
   ]
  },
  {
   "cell_type": "code",
   "execution_count": 62,
   "id": "d9ab3455",
   "metadata": {},
   "outputs": [],
   "source": [
    "samplings = ['1s', '2s', '5s', '10s', '20s', '30s', '40s', '50s', '1min','3min', '5min']\n",
    "rv_plot = []\n",
    "for sampling in samplings:\n",
    "    rv_sample = []\n",
    "    for df in df_data_all_days_SPY:\n",
    "        rv_sample +=compute_rv(df, sampling)\n",
    "    rv_plot.append(np.mean(rv_sample))"
   ]
  },
  {
   "cell_type": "code",
   "execution_count": 121,
   "id": "bdc76651",
   "metadata": {},
   "outputs": [
    {
     "data": {
      "image/png": "[encoded data removed]",
      "text/plain": [
       "<Figure size 1440x1080 with 1 Axes>"
      ]
     },
     "metadata": {
      "needs_background": "light"
     },
     "output_type": "display_data"
    }
   ],
   "source": [
    "fig,ax = plt.subplots(1,1,figsize=(20,15))\n",
    "plt.plot(samplings, rv_plot)\n",
    "plt.savefig(os.path.join(results_path, 'rv_15_signature_plot.png'), dpi=400, facecolor='aliceblue',edgecolor='k',bbox_inches='tight')\n",
    "plt.show()"
   ]
  },
  {
   "cell_type": "code",
   "execution_count": 110,
   "id": "7493f62c",
   "metadata": {},
   "outputs": [],
   "source": [
    "df_test = pd.DataFrame(columns=['varEEM', 'varSPY', 'varEZU', 'cov(EEM,SPY)', 'cov(EEM, EZU)', 'cov(SPY, EZU)'])\n",
    "for day in range(len(df_data_all_days_SPY)):\n",
    "    df_SPY = df_data_all_days_SPY[day]\n",
    "    df_SPY.index = df_SPY.DT\n",
    "    df_SPY = df_SPY.resample('1min').ffill()\n",
    "    df_SPY['RET'] = df_SPY.MID.pct_change().apply(np.vectorize(lambda x: np.log(1+x)))\n",
    "    df_SPY = df_SPY[1:]\n",
    "\n",
    "    df_EEM = df_data_all_days_EEM[day]\n",
    "    df_EEM.index = df_EEM.DT\n",
    "    df_EEM = df_EEM.resample('1min').ffill()\n",
    "    df_EEM['RET'] = df_EEM.MID.pct_change().apply(np.vectorize(lambda x: np.log(1+x)))\n",
    "    df_EEM = df_EEM[1:]\n",
    "\n",
    "    df_EZU = df_data_all_days_EZU[day]\n",
    "    df_EZU.index = df_EZU.DT\n",
    "    df_EZU = df_EZU.resample('1min').ffill()\n",
    "    df_EZU['RET'] = df_EZU.MID.pct_change().apply(np.vectorize(lambda x: np.log(1+x)))\n",
    "    df_EZU = df_EZU[1:]\n",
    "\n",
    "    master_df = pd.DataFrame(index = df_SPY.index, columns=['varEEM', 'varSPY', 'varEZU', 'cov(EEM,SPY)', 'cov(EEM, EZU)', 'cov(SPY, EZU)'])\n",
    "    master_df['varEEM'] = df_EEM.RET.apply(lambda x: x**2)\n",
    "    master_df['varSPY'] = df_SPY.RET.apply(lambda x: x**2)\n",
    "    master_df['varEZU'] = df_EZU.RET.apply(lambda x: x**2)\n",
    "    master_df['cov(EEM,SPY)'] = np.multiply(df_EEM.RET.values, df_SPY.RET.values)\n",
    "    master_df['cov(EEM, EZU)'] = np.multiply(df_EEM.RET.values, df_EZU.RET.values)\n",
    "    master_df['cov(SPY, EZU)'] = np.multiply(df_SPY.RET.values, df_EZU.RET.values)\n",
    "    master_df.reset_index(drop=False, inplace=True)\n",
    "    master_df.iloc[-1,0] = master_df.iloc[-1,0] - datetime.timedelta(seconds=1)\n",
    "    master_df.index = master_df.DT\n",
    "    master_df = master_df.resample('15min').sum()\n",
    "    master_df.reset_index(drop=False, inplace=True)\n",
    "    master_df.DT = master_df.DT + datetime.timedelta(minutes=15)\n",
    "    df_test = pd.concat([df_test, master_df])"
   ]
  },
  {
   "cell_type": "code",
   "execution_count": 112,
   "id": "3875201b",
   "metadata": {},
   "outputs": [],
   "source": [
    "df_test.to_excel(os.path.join(data_path, 'RV15min.xlsx'))"
   ]
  },
  {
   "cell_type": "code",
   "execution_count": null,
   "id": "6f5ade94",
   "metadata": {},
   "outputs": [],
   "source": []
  }
 ],
 "metadata": {
  "kernelspec": {
   "display_name": "Python 3",
   "language": "python",
   "name": "python3"
  },
  "language_info": {
   "codemirror_mode": {
    "name": "ipython",
    "version": 3
   },
   "file_extension": ".py",
   "mimetype": "text/x-python",
   "name": "python",
   "nbconvert_exporter": "python",
   "pygments_lexer": "ipython3",
   "version": "3.9.4"
  }
 },
 "nbformat": 4,
 "nbformat_minor": 5
}
